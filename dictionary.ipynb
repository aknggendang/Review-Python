{
 "cells": [
  {
   "cell_type": "markdown",
   "metadata": {},
   "source": [
    "# Dictionary (Python) \n",
    "\n",
    "- Teacher : Chatgpt\n",
    "- Date : 5/03/2025"
   ]
  },
  {
   "cell_type": "markdown",
   "metadata": {},
   "source": [
    "### Ciri - ciri Dictionary\n",
    "\n",
    "- Menggunakan kurung kurawal {}.\n",
    "- Terdiri dari key (kunci) dan value (nilai).\n",
    "- Key harus unik dan bisa berupa tipe data string, angka, atau tuple.\n",
    "- Value bisa berupa tipe data apa saja (string, angka, list, bahkan dictionary lain).\n",
    "- Tidak berurutan seperti list (versi sebelum Python 3.7)."
   ]
  },
  {
   "cell_type": "markdown",
   "metadata": {},
   "source": [
    "#### Contoh Dasar Dictionary"
   ]
  },
  {
   "cell_type": "code",
   "execution_count": 3,
   "metadata": {},
   "outputs": [],
   "source": [
    "##  Dictionary dengan beberapa pasangan key - value\n",
    "\n",
    "orang = {\n",
    "    \"Nama\" : \"Alfaizi\",\n",
    "    \"Usia\" : 19,\n",
    "    \"Pekerjaan\" : \"Mahasiswa\",\n",
    "    \"hobi\": [\"ngoding\", \"archery\", \"manual brewing\"]\n",
    "} \n"
   ]
  },
  {
   "cell_type": "markdown",
   "metadata": {},
   "source": [
    "#### Akses dictionary"
   ]
  },
  {
   "cell_type": "code",
   "execution_count": 4,
   "metadata": {},
   "outputs": [
    {
     "name": "stdout",
     "output_type": "stream",
     "text": [
      "{'Nama': 'Alfaizi', 'Usia': 19, 'Pekerjaan': 'Mahasiswa', 'hobi': ['ngoding', 'archery', 'manual brewing']}\n"
     ]
    }
   ],
   "source": [
    "print(orang)"
   ]
  },
  {
   "cell_type": "code",
   "execution_count": null,
   "metadata": {},
   "outputs": [
    {
     "name": "stdout",
     "output_type": "stream",
     "text": [
      "Alfaizi\n",
      "['ngoding', 'archery', 'manual brewing']\n"
     ]
    }
   ],
   "source": [
    "# Akses nilai dalam dictionary\n",
    "\n",
    "# Cara Akses : print(variabel_dict[\"Nama Key\"])\n",
    "\n",
    "print(orang['Nama'])\n",
    "print(orang[\"hobi\"])"
   ]
  },
  {
   "cell_type": "code",
   "execution_count": 11,
   "metadata": {},
   "outputs": [
    {
     "name": "stdout",
     "output_type": "stream",
     "text": [
      "19\n",
      "None\n",
      "Tidak ada data\n"
     ]
    }
   ],
   "source": [
    "# Bisa akses menggunakan .get()\n",
    "# Metode get digunakan untuk mengakses suatu key yang mungkin tidak ada dalam variabel, sehingga kode tetap dapat berjalan tanpa error.\n",
    "\n",
    "print(orang.get(\"Usia\"))\n",
    "print(orang.get(\"Status\")) # tetap bisa berjalan tapi mengeluarkan output None\n",
    "print(orang.get(\"alamat\", \"Tidak ada data\"))  # Output: Tidak ada data\n"
   ]
  },
  {
   "cell_type": "markdown",
   "metadata": {},
   "source": [
    "#### Menambah dan Memanipulasi data "
   ]
  },
  {
   "cell_type": "code",
   "execution_count": 12,
   "metadata": {},
   "outputs": [],
   "source": [
    "# Menambahkan Key Baru : \n",
    "\n",
    "orang[\"Universitas\"] = \"Telkom University\"\n",
    "\n",
    "# Mengubah atau mengedit Key Yang sudah ada \n",
    "\n",
    "orang[\"Usia\"] = 21\n",
    "\n",
    "# Menghapus Key \n",
    "\n",
    "del orang[\"Pekerjaan\"]"
   ]
  },
  {
   "cell_type": "code",
   "execution_count": 13,
   "metadata": {},
   "outputs": [
    {
     "name": "stdout",
     "output_type": "stream",
     "text": [
      "{'Nama': 'Alfaizi', 'Usia': 21, 'hobi': ['ngoding', 'archery', 'manual brewing'], 'Universitas': 'Telkom University'}\n"
     ]
    }
   ],
   "source": [
    "print(orang)"
   ]
  },
  {
   "cell_type": "code",
   "execution_count": 15,
   "metadata": {},
   "outputs": [
    {
     "name": "stdout",
     "output_type": "stream",
     "text": [
      "Nama\n",
      "Usia\n",
      "hobi\n",
      "Universitas\n",
      "====================\n",
      "Alfaizi\n",
      "21\n",
      "['ngoding', 'archery', 'manual brewing']\n",
      "Telkom University\n",
      "====================\n",
      "Nama: Alfaizi\n",
      "Usia: 21\n",
      "hobi: ['ngoding', 'archery', 'manual brewing']\n",
      "Universitas: Telkom University\n"
     ]
    }
   ],
   "source": [
    "# Menampilkan semua key\n",
    "for key in orang.keys():\n",
    "    print(key)\n",
    "    \n",
    "print(\"=\"*20)\n",
    "\n",
    "# Menampilkan semua value\n",
    "for value in orang.values():\n",
    "    print(value)\n",
    "\n",
    "print(\"=\"*20)\n",
    "\n",
    "# Menampilkan key dan value\n",
    "for key, value in orang.items():\n",
    "    print(f\"{key}: {value}\")\n"
   ]
  },
  {
   "cell_type": "markdown",
   "metadata": {},
   "source": [
    "#### Nested Dictionary\n",
    "\n",
    "Dictionary di dalam dictionary"
   ]
  },
  {
   "cell_type": "code",
   "execution_count": null,
   "metadata": {},
   "outputs": [
    {
     "name": "stdout",
     "output_type": "stream",
     "text": [
      "Teknologi Informasi\n",
      "20\n"
     ]
    }
   ],
   "source": [
    "# data_mahasiswa = {\n",
    "#     \"Alfaizi\": {\n",
    "#         \"usia\": 19,\n",
    "#         \"jurusan\": \"Teknologi Informasi\"\n",
    "#     },\n",
    "#     \"Budi\": {\n",
    "#         \"usia\": 20,\n",
    "#         \"jurusan\": \"Sistem Informasi\"\n",
    "#     }\n",
    "# }\n",
    "\n",
    "# print(data_mahasiswa[\"Alfaizi\"][\"jurusan\"])  # Output: Teknologi Informasi\n",
    "# print(data_mahasiswa[\"Budi\"][\"usia\"]) # Output : 20"
   ]
  },
  {
   "cell_type": "markdown",
   "metadata": {},
   "source": [
    "### Studi Kasus 1"
   ]
  },
  {
   "cell_type": "markdown",
   "metadata": {},
   "source": [
    "- Buat dictionary bernama data_mahasiswa yang menyimpan informasi beberapa mahasiswa.\n",
    "- Setiap mahasiswa memiliki nama, usia, jurusan, dan IPK.\n",
    "- Tambahkan data untuk 3 mahasiswa.\n",
    "- Akses dan tampilkan jurusan dari salah satu mahasiswa.\n",
    "- Ubah usia salah satu mahasiswa.\n",
    "- Tambahkan alamat untuk salah satu mahasiswa.\n",
    "- Hapus data IPK dari satu mahasiswa.\n",
    "- Tampilkan semua data mahasiswa menggunakan loop.\n"
   ]
  },
  {
   "cell_type": "code",
   "execution_count": 31,
   "metadata": {},
   "outputs": [],
   "source": [
    "# Membuat Dictionary \n",
    "\n",
    "data_mahasiswa = {\n",
    "    \"Alfaizi Ahmad Zahran\" : {\n",
    "        \"Usia\" : 20,\n",
    "        \"Jurusan\" : \"Teknologi Informasi\",\n",
    "        \"IPK\" : 3.2\n",
    "    },\n",
    "    \n",
    "    \"John Doe Sudarsono\" : {\n",
    "        \"Usia\" : 22,\n",
    "        \"Jurusan\" : \"Sistem Informasi\",\n",
    "        \"IPK\" : 3.7\n",
    "    },\n",
    "    \n",
    "    \"Firman Firewall\" : {\n",
    "        \"Usia\" : 28,\n",
    "        \"Jurusan\" : \"Sastra Mesin\",\n",
    "        \"IPK\" : 3.9\n",
    "    }\n",
    "}"
   ]
  },
  {
   "cell_type": "code",
   "execution_count": 19,
   "metadata": {},
   "outputs": [
    {
     "name": "stdout",
     "output_type": "stream",
     "text": [
      "Sistem Informasi\n"
     ]
    }
   ],
   "source": [
    "# Meng Akses dan menampilkan salah satu mahasiswa\n",
    "\n",
    "print(data_mahasiswa[\"John Doe Sudarsono\"][\"Jurusan\"])"
   ]
  },
  {
   "cell_type": "code",
   "execution_count": 21,
   "metadata": {},
   "outputs": [
    {
     "name": "stdout",
     "output_type": "stream",
     "text": [
      "{'Usia': 25, 'Jurusan': 'Sastra Mesin', 'IPK': 3.9}\n"
     ]
    }
   ],
   "source": [
    "# Mengubah Usia salah satu mahasiswa\n",
    "\n",
    "data_mahasiswa[\"Firman Firewall\"][\"Usia\"] = 25\n",
    "print(data_mahasiswa[\"Firman Firewall\"])"
   ]
  },
  {
   "cell_type": "code",
   "execution_count": 23,
   "metadata": {},
   "outputs": [
    {
     "name": "stdout",
     "output_type": "stream",
     "text": [
      "{'Usia': 25, 'Jurusan': 'Sastra Mesin', 'IPK': 3.9, 'Alamat': 'Jl. Halimun,Setiabudi'}\n"
     ]
    }
   ],
   "source": [
    "# Menambahkan Alamat pada salah satu mahasiswa\n",
    "\n",
    "data_mahasiswa[\"Firman Firewall\"][\"Alamat\"] = \"Jl. Halimun,Setiabudi\" \n",
    "\n",
    "print(data_mahasiswa[\"Firman Firewall\"])"
   ]
  },
  {
   "cell_type": "code",
   "execution_count": 32,
   "metadata": {},
   "outputs": [],
   "source": [
    "# Mengahpus IPK salah satu mahasiswa\n",
    "\n",
    "del data_mahasiswa[\"Alfaizi Ahmad Zahran\"][\"IPK\"]\n"
   ]
  },
  {
   "cell_type": "code",
   "execution_count": 34,
   "metadata": {},
   "outputs": [
    {
     "name": "stdout",
     "output_type": "stream",
     "text": [
      " Nama :Alfaizi Ahmad Zahran\n",
      " Usia : 20\n",
      " Jurusan : Teknologi Informasi\n",
      "==============================\n",
      " Nama :John Doe Sudarsono\n",
      " Usia : 22\n",
      " Jurusan : Sistem Informasi\n",
      " IPK : 3.7\n",
      "==============================\n",
      " Nama :Firman Firewall\n",
      " Usia : 28\n",
      " Jurusan : Sastra Mesin\n",
      " IPK : 3.9\n",
      "==============================\n"
     ]
    }
   ],
   "source": [
    "# Menampilkan data seluruh mahasiswa \n",
    "\n",
    "\n",
    "for nama,detail in data_mahasiswa.items() :\n",
    "    print(f\" Nama :{nama}\")\n",
    "    for key,value in detail.items():\n",
    "        print(f\" {key} : {value}\")\n",
    "       \n",
    "    print(\"=\"* 30) "
   ]
  },
  {
   "cell_type": "markdown",
   "metadata": {},
   "source": [
    "### Studi Kasus 2 "
   ]
  },
  {
   "cell_type": "code",
   "execution_count": 35,
   "metadata": {},
   "outputs": [],
   "source": [
    "# Sebuah perusahaan memiliki data gaji karyawannya dalam bentuk dictionary sebagai berikut:\n",
    "\n",
    "gaji_karyawan = {\n",
    "    \"Andi\": {\"posisi\": \"Data Analyst\", \"gaji\": 8_000_000},\n",
    "    \"Budi\": {\"posisi\": \"Software Engineer\", \"gaji\": 12_000_000},\n",
    "    \"Citra\": {\"posisi\": \"UI/UX Designer\", \"gaji\": 9_000_000},\n",
    "    \"Dewi\": {\"posisi\": \"Project Manager\", \"gaji\": 15_000_000}\n",
    "}"
   ]
  },
  {
   "cell_type": "markdown",
   "metadata": {},
   "source": [
    "💡 Tugasmu:\n",
    "- 1️⃣ Tampilkan semua data karyawan dengan format yang rapi.\n",
    "- 2️⃣ Tampilkan hanya karyawan yang memiliki gaji di atas 10 juta.\n",
    "- 3️⃣ Hitung total gaji semua karyawan.\n",
    "\n",
    "- 🚀 Silakan coba dulu! Jika kesulitan, beri tahu saya. 😊"
   ]
  },
  {
   "cell_type": "code",
   "execution_count": 38,
   "metadata": {},
   "outputs": [
    {
     "name": "stdout",
     "output_type": "stream",
     "text": [
      "Nama      : Andi\n",
      "posisi    : Data Analyst\n",
      "gaji      : 8000000\n",
      "==============================\n",
      "Nama      : Budi\n",
      "posisi    : Software Engineer\n",
      "gaji      : 12000000\n",
      "==============================\n",
      "Nama      : Citra\n",
      "posisi    : UI/UX Designer\n",
      "gaji      : 9000000\n",
      "==============================\n",
      "Nama      : Dewi\n",
      "posisi    : Project Manager\n",
      "gaji      : 15000000\n",
      "==============================\n"
     ]
    }
   ],
   "source": [
    "# 1. Tampilkan semua data karyawan dengan format yang rapi.\n",
    "\n",
    "for nama,info in gaji_karyawan.items():\n",
    "    print(f\"Nama      : {nama}\")\n",
    "    for key,value in info.items():\n",
    "        print(f\"{key.ljust(10)}: {value}\") \n",
    "    print(\"=\" * 30)\n"
   ]
  },
  {
   "cell_type": "code",
   "execution_count": 42,
   "metadata": {},
   "outputs": [
    {
     "name": "stdout",
     "output_type": "stream",
     "text": [
      "Budi memiliki gaji di atas 10 juta (12000000)\n",
      "Dewi memiliki gaji di atas 10 juta (15000000)\n"
     ]
    }
   ],
   "source": [
    "# 2. Tampilkan hanya karyawan yang memiliki gaji di atas 10 juta.\n",
    "\n",
    "for nama,info in gaji_karyawan.items():\n",
    "    if info[\"gaji\"] > 10000000:\n",
    "         print(f\"{nama} memiliki gaji di atas 10 juta ({info['gaji']})\")"
   ]
  },
  {
   "cell_type": "markdown",
   "metadata": {},
   "source": [
    "### Studi Kasus 3"
   ]
  },
  {
   "cell_type": "markdown",
   "metadata": {},
   "source": [
    "Sebuah toko online memiliki daftar produk dalam bentuk dictionary yang berisi informasi berikut:\n",
    "\n",
    "- Nama produk\n",
    "- Harga\n",
    "- Stok"
   ]
  },
  {
   "cell_type": "code",
   "execution_count": 44,
   "metadata": {},
   "outputs": [],
   "source": [
    "produk_toko = {\n",
    "    \"Laptop\": {\"harga\": 12000000, \"stok\": 5},\n",
    "    \"Smartphone\": {\"harga\": 8000000, \"stok\": 10},\n",
    "    \"Headphone\": {\"harga\": 1500000, \"stok\": 15},\n",
    "    \"Mouse\": {\"harga\": 250000, \"stok\": 30},\n",
    "    \"Keyboard\": {\"harga\": 500000, \"stok\": 20}\n",
    "}"
   ]
  },
  {
   "cell_type": "markdown",
   "metadata": {},
   "source": [
    "Tantangan (Coba kerjakan sendiri! 🚀)\n",
    "- 1️⃣ Tampilkan semua produk beserta harga dan stoknya dengan format yang rapi.\n",
    "- 2️⃣ Cek apakah ada produk dengan stok kurang dari 10 dan tampilkan produknya.\n",
    "- 3️⃣ Hitung total nilai stok (harga × jumlah stok) dari semua produk.\n",
    "- 4️⃣ Tambahkan produk baru bernama \"Monitor\" dengan harga 3.500.000 dan stok 7."
   ]
  },
  {
   "cell_type": "code",
   "execution_count": 48,
   "metadata": {},
   "outputs": [
    {
     "name": "stdout",
     "output_type": "stream",
     "text": [
      "Produk    : Laptop\n",
      "harga     : 12000000\n",
      "stok      : 5\n",
      "==============================\n",
      "Produk    : Smartphone\n",
      "harga     : 8000000\n",
      "stok      : 10\n",
      "==============================\n",
      "Produk    : Headphone\n",
      "harga     : 1500000\n",
      "stok      : 15\n",
      "==============================\n",
      "Produk    : Mouse\n",
      "harga     : 250000\n",
      "stok      : 30\n",
      "==============================\n",
      "Produk    : Keyboard\n",
      "harga     : 500000\n",
      "stok      : 20\n",
      "==============================\n"
     ]
    }
   ],
   "source": [
    "# 1 Menampilkan produk\n",
    "\n",
    "for produk,detail in produk_toko.items():\n",
    "    print(f\"Produk    : {produk}\")\n",
    "    for key,value in detail.items():\n",
    "        print(f\"{key.ljust(10)}: {value}\") \n",
    "    print(\"=\" * 30)\n"
   ]
  },
  {
   "cell_type": "code",
   "execution_count": 49,
   "metadata": {},
   "outputs": [
    {
     "name": "stdout",
     "output_type": "stream",
     "text": [
      "Laptop mempunyai stok kurang dari 10\n"
     ]
    }
   ],
   "source": [
    "# 2 Cek apakah ada produk dengan stok kurang dari 10 dan tampilkan produknya.\n",
    "\n",
    "\n",
    "for produk,detail in produk_toko.items():\n",
    "    if detail[\"stok\"] < 10 :\n",
    "        print(f\"{produk} mempunyai stok kurang dari 10\")"
   ]
  },
  {
   "cell_type": "code",
   "execution_count": 57,
   "metadata": {},
   "outputs": [
    {
     "name": "stdout",
     "output_type": "stream",
     "text": [
      "Nama Produk                    : Laptop\n",
      "Harga Produk                   : 12000000\n",
      "Stok                           : 5\n",
      "Total stok (harga x stok)      : 60000000 \n",
      "============================================================\n",
      "Nama Produk                    : Smartphone\n",
      "Harga Produk                   : 8000000\n",
      "Stok                           : 10\n",
      "Total stok (harga x stok)      : 80000000 \n",
      "============================================================\n",
      "Nama Produk                    : Headphone\n",
      "Harga Produk                   : 1500000\n",
      "Stok                           : 15\n",
      "Total stok (harga x stok)      : 22500000 \n",
      "============================================================\n",
      "Nama Produk                    : Mouse\n",
      "Harga Produk                   : 250000\n",
      "Stok                           : 30\n",
      "Total stok (harga x stok)      : 7500000 \n",
      "============================================================\n",
      "Nama Produk                    : Keyboard\n",
      "Harga Produk                   : 500000\n",
      "Stok                           : 20\n",
      "Total stok (harga x stok)      : 10000000 \n",
      "============================================================\n",
      "Hasil Akhir (penjumlahan dari Total stok) :  180000000\n"
     ]
    }
   ],
   "source": [
    "# 3 Hitung total nilai stok (harga × jumlah stok) dari semua produk.\n",
    "count = 0\n",
    "\n",
    "for produk,detail in produk_toko.items():\n",
    "    harga_stok = detail[\"harga\"] * detail[\"stok\"]\n",
    "    print(f\"Nama Produk                    : {produk}\")\n",
    "    print(f\"Harga Produk                   : {detail['harga']}\")\n",
    "    print(f\"Stok                           : {detail['stok']}\")\n",
    "    print(f\"Total stok (harga x stok)      : {harga_stok} \")\n",
    "    print(\"==\"*30)\n",
    "\n",
    "    count += harga_stok\n",
    "    \n",
    "print(\"Hasil Akhir (penjumlahan dari Total stok) : \",count)    \n",
    "    "
   ]
  },
  {
   "cell_type": "code",
   "execution_count": null,
   "metadata": {},
   "outputs": [],
   "source": []
  }
 ],
 "metadata": {
  "kernelspec": {
   "display_name": "learn",
   "language": "python",
   "name": "python3"
  },
  "language_info": {
   "codemirror_mode": {
    "name": "ipython",
    "version": 3
   },
   "file_extension": ".py",
   "mimetype": "text/x-python",
   "name": "python",
   "nbconvert_exporter": "python",
   "pygments_lexer": "ipython3",
   "version": "3.12.3"
  }
 },
 "nbformat": 4,
 "nbformat_minor": 2
}
